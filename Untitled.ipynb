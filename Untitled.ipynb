{
 "cells": [
  {
   "cell_type": "code",
   "execution_count": 1,
   "id": "1a36b262-14a2-4693-8c82-3008e3fc57b9",
   "metadata": {},
   "outputs": [
    {
     "data": {
      "text/plain": [
       "'\\n## Agenda for the Notebook\\n\\n1. Initializing Tensors\\n    \\n    <ol>1.1 Initializing 1D tensor</ol>\\n\\n    <ol>1.2 Initializing 2D tensor</ol>\\n\\n    <ol>1.3 Initializing 3D tensor</ol>\\n\\n    <ol>1.4 Randomly initializing tensors</ol>\\n\\n2. Mathematical Operations in PyTorch\\n\\n3. Matrix Operations in PyTorch\\n    \\n    <ol>3.1 Matrix addition</ol>\\n\\n    <ol>3.2 Matrix subtraction</ol>\\n\\n    <ol>3.3 Matrix multiplication</ol>\\n\\n    <ol>3.4 Matrix division</ol>\\n\\n    <ol>3.5 Transpose of a matrix</ol>\\n\\n    <ol>3.6 Reshaping 2d tensors</ol>\\n\\n4. Converting NumPy arrays to PyTorch Tensors\\n\\n4. Converting PyTorch Tensors to NumPy array\\n\\n4. Using tensor on GPU\\n'"
      ]
     },
     "execution_count": 1,
     "metadata": {},
     "output_type": "execute_result"
    }
   ],
   "source": [
    "'''\n",
    "## Agenda for the Notebook\n",
    "\n",
    "1. Initializing Tensors\n",
    "    \n",
    "    <ol>1.1 Initializing 1D tensor</ol>\n",
    "\n",
    "    <ol>1.2 Initializing 2D tensor</ol>\n",
    "\n",
    "    <ol>1.3 Initializing 3D tensor</ol>\n",
    "\n",
    "    <ol>1.4 Randomly initializing tensors</ol>\n",
    "\n",
    "2. Mathematical Operations in PyTorch\n",
    "\n",
    "3. Matrix Operations in PyTorch\n",
    "    \n",
    "    <ol>3.1 Matrix addition</ol>\n",
    "\n",
    "    <ol>3.2 Matrix subtraction</ol>\n",
    "\n",
    "    <ol>3.3 Matrix multiplication</ol>\n",
    "\n",
    "    <ol>3.4 Matrix division</ol>\n",
    "\n",
    "    <ol>3.5 Transpose of a matrix</ol>\n",
    "\n",
    "    <ol>3.6 Reshaping 2d tensors</ol>\n",
    "\n",
    "4. Converting NumPy arrays to PyTorch Tensors\n",
    "\n",
    "4. Converting PyTorch Tensors to NumPy array\n",
    "\n",
    "4. Using tensor on GPU\n",
    "'''"
   ]
  },
  {
   "cell_type": "code",
   "execution_count": 3,
   "id": "bd667691-0f63-4078-8c5e-0b63b0f14379",
   "metadata": {},
   "outputs": [
    {
     "name": "stdout",
     "output_type": "stream",
     "text": [
      "Collecting torch\n",
      "  Downloading torch-2.2.0-cp39-none-macosx_11_0_arm64.whl.metadata (25 kB)\n",
      "Collecting torchvision\n",
      "  Downloading torchvision-0.17.0-cp39-cp39-macosx_11_0_arm64.whl.metadata (6.6 kB)\n",
      "Collecting torchaudio\n",
      "  Downloading torchaudio-2.2.0-cp39-cp39-macosx_11_0_arm64.whl.metadata (6.4 kB)\n",
      "Collecting filelock (from torch)\n",
      "  Using cached filelock-3.13.1-py3-none-any.whl.metadata (2.8 kB)\n",
      "Requirement already satisfied: typing-extensions>=4.8.0 in /Users/paramanandbhat/.pyenv/versions/3.9.12/lib/python3.9/site-packages (from torch) (4.9.0)\n",
      "Collecting sympy (from torch)\n",
      "  Using cached sympy-1.12-py3-none-any.whl (5.7 MB)\n",
      "Collecting networkx (from torch)\n",
      "  Using cached networkx-3.2.1-py3-none-any.whl.metadata (5.2 kB)\n",
      "Requirement already satisfied: jinja2 in /Users/paramanandbhat/.pyenv/versions/3.9.12/lib/python3.9/site-packages (from torch) (3.1.3)\n",
      "Collecting fsspec (from torch)\n",
      "  Downloading fsspec-2024.2.0-py3-none-any.whl.metadata (6.8 kB)\n",
      "Requirement already satisfied: numpy in /Users/paramanandbhat/.pyenv/versions/3.9.12/lib/python3.9/site-packages (from torchvision) (1.26.4)\n",
      "Requirement already satisfied: requests in /Users/paramanandbhat/.pyenv/versions/3.9.12/lib/python3.9/site-packages (from torchvision) (2.31.0)\n",
      "Requirement already satisfied: pillow!=8.3.*,>=5.3.0 in /Users/paramanandbhat/.pyenv/versions/3.9.12/lib/python3.9/site-packages (from torchvision) (10.2.0)\n",
      "Requirement already satisfied: MarkupSafe>=2.0 in /Users/paramanandbhat/.pyenv/versions/3.9.12/lib/python3.9/site-packages (from jinja2->torch) (2.1.5)\n",
      "Requirement already satisfied: charset-normalizer<4,>=2 in /Users/paramanandbhat/.pyenv/versions/3.9.12/lib/python3.9/site-packages (from requests->torchvision) (3.3.2)\n",
      "Requirement already satisfied: idna<4,>=2.5 in /Users/paramanandbhat/.pyenv/versions/3.9.12/lib/python3.9/site-packages (from requests->torchvision) (3.6)\n",
      "Requirement already satisfied: urllib3<3,>=1.21.1 in /Users/paramanandbhat/.pyenv/versions/3.9.12/lib/python3.9/site-packages (from requests->torchvision) (2.2.0)\n",
      "Requirement already satisfied: certifi>=2017.4.17 in /Users/paramanandbhat/.pyenv/versions/3.9.12/lib/python3.9/site-packages (from requests->torchvision) (2024.2.2)\n",
      "Collecting mpmath>=0.19 (from sympy->torch)\n",
      "  Using cached mpmath-1.3.0-py3-none-any.whl (536 kB)\n",
      "Downloading torch-2.2.0-cp39-none-macosx_11_0_arm64.whl (59.7 MB)\n",
      "\u001b[2K   \u001b[38;2;114;156;31m━━━━━━━━━━━━━━━━━━━━━━━━━━━━━━━━━━━━━━━━\u001b[0m \u001b[32m59.7/59.7 MB\u001b[0m \u001b[31m893.9 kB/s\u001b[0m eta \u001b[36m0:00:00\u001b[0mm eta \u001b[36m0:00:01\u001b[0m[36m0:00:02\u001b[0m\n",
      "\u001b[?25hDownloading torchvision-0.17.0-cp39-cp39-macosx_11_0_arm64.whl (1.6 MB)\n",
      "\u001b[2K   \u001b[38;2;114;156;31m━━━━━━━━━━━━━━━━━━━━━━━━━━━━━━━━━━━━━━━━\u001b[0m \u001b[32m1.6/1.6 MB\u001b[0m \u001b[31m859.7 kB/s\u001b[0m eta \u001b[36m0:00:00\u001b[0m[36m0:00:01\u001b[0mm eta \u001b[36m0:00:01\u001b[0m\n",
      "\u001b[?25hDownloading torchaudio-2.2.0-cp39-cp39-macosx_11_0_arm64.whl (1.8 MB)\n",
      "\u001b[2K   \u001b[38;2;114;156;31m━━━━━━━━━━━━━━━━━━━━━━━━━━━━━━━━━━━━━━━━\u001b[0m \u001b[32m1.8/1.8 MB\u001b[0m \u001b[31m875.6 kB/s\u001b[0m eta \u001b[36m0:00:00\u001b[0m[36m0:00:01\u001b[0mm eta \u001b[36m0:00:01\u001b[0m\n",
      "\u001b[?25hUsing cached filelock-3.13.1-py3-none-any.whl (11 kB)\n",
      "Downloading fsspec-2024.2.0-py3-none-any.whl (170 kB)\n",
      "\u001b[2K   \u001b[38;2;114;156;31m━━━━━━━━━━━━━━━━━━━━━━━━━━━━━━━━━━━━━━━━\u001b[0m \u001b[32m170.9/170.9 kB\u001b[0m \u001b[31m1.2 MB/s\u001b[0m eta \u001b[36m0:00:00\u001b[0m[31m1.2 MB/s\u001b[0m eta \u001b[36m0:00:01\u001b[0m\n",
      "\u001b[?25hUsing cached networkx-3.2.1-py3-none-any.whl (1.6 MB)\n",
      "Installing collected packages: mpmath, sympy, networkx, fsspec, filelock, torch, torchvision, torchaudio\n",
      "Successfully installed filelock-3.13.1 fsspec-2024.2.0 mpmath-1.3.0 networkx-3.2.1 sympy-1.12 torch-2.2.0 torchaudio-2.2.0 torchvision-0.17.0\n",
      "2.2.0\n"
     ]
    }
   ],
   "source": [
    "## 1. Initializing Tensors\n",
    "# importing PyTorch library and checking its version\n",
    "!pip install torch torchvision torchaudio\n",
    "\n",
    "import torch\n",
    "print(torch.__version__)"
   ]
  },
  {
   "cell_type": "code",
   "execution_count": 4,
   "id": "2fa67938-cd95-4689-80f7-096af14a3da3",
   "metadata": {},
   "outputs": [],
   "source": [
    "### 1.1 Initializing a 1D tensor"
   ]
  },
  {
   "cell_type": "code",
   "execution_count": 5,
   "id": "f7f5e2a1-7980-485b-ba0a-e7ad86c2dacb",
   "metadata": {},
   "outputs": [
    {
     "name": "stdout",
     "output_type": "stream",
     "text": [
      "tensor([1])\n"
     ]
    }
   ],
   "source": [
    "# initializing a 1D tensor\n",
    "one_d_tensor = torch.tensor([1])\n",
    "print(one_d_tensor)"
   ]
  },
  {
   "cell_type": "code",
   "execution_count": 6,
   "id": "e71d4100-d27c-4c8d-87e4-823c773961d8",
   "metadata": {},
   "outputs": [
    {
     "data": {
      "text/plain": [
       "torch.Size([1])"
      ]
     },
     "execution_count": 6,
     "metadata": {},
     "output_type": "execute_result"
    }
   ],
   "source": [
    "# shape of 1d tensor\n",
    "one_d_tensor.shape"
   ]
  },
  {
   "cell_type": "code",
   "execution_count": 8,
   "id": "263ae8c5-07d3-4f0a-9f5e-b883d8857b2a",
   "metadata": {},
   "outputs": [
    {
     "name": "stdout",
     "output_type": "stream",
     "text": [
      "tensor([[1, 2],\n",
      "        [3, 4]])\n"
     ]
    }
   ],
   "source": [
    "### 1.2 Initializing 2D tensor\n",
    "# initializing a 1D tensor\n",
    "two_d_tensor = torch.tensor([[1, 2], [3, 4]])\n",
    "print(two_d_tensor)"
   ]
  },
  {
   "cell_type": "code",
   "execution_count": 9,
   "id": "9dff6819-c87c-414b-9009-500968d1f035",
   "metadata": {},
   "outputs": [
    {
     "data": {
      "text/plain": [
       "torch.Size([2, 2])"
      ]
     },
     "execution_count": 9,
     "metadata": {},
     "output_type": "execute_result"
    }
   ],
   "source": [
    "# shape of 2d tensor\n",
    "two_d_tensor.shape"
   ]
  },
  {
   "cell_type": "code",
   "execution_count": 10,
   "id": "3df1bd7c-80aa-4d60-8400-b109438f1453",
   "metadata": {},
   "outputs": [
    {
     "name": "stdout",
     "output_type": "stream",
     "text": [
      "tensor([[[ 1,  2,  3],\n",
      "         [ 4,  5,  6],\n",
      "         [ 7,  8,  9]],\n",
      "\n",
      "        [[10, 11, 12],\n",
      "         [13, 14, 15],\n",
      "         [16, 17, 18]]])\n"
     ]
    }
   ],
   "source": [
    "# initializing a 1D tensor\n",
    "three_d_tensor = torch.tensor([[[1, 2, 3], [4, 5, 6], [7, 8, 9]],\n",
    "                               [[10, 11, 12], [13, 14, 15], [16, 17, 18]]])\n",
    "print(three_d_tensor)"
   ]
  },
  {
   "cell_type": "code",
   "execution_count": 11,
   "id": "2469e69b-bd17-4976-8476-53bb1f752b6a",
   "metadata": {},
   "outputs": [
    {
     "data": {
      "text/plain": [
       "torch.Size([2, 3, 3])"
      ]
     },
     "execution_count": 11,
     "metadata": {},
     "output_type": "execute_result"
    }
   ],
   "source": [
    "# shape of 3d tensor\n",
    "three_d_tensor.shape"
   ]
  },
  {
   "cell_type": "code",
   "execution_count": 12,
   "id": "ad92861b-36ce-4fea-8a06-68c66c5b482e",
   "metadata": {},
   "outputs": [],
   "source": [
    "### 1.4 Randomly initializing tensors"
   ]
  },
  {
   "cell_type": "code",
   "execution_count": 13,
   "id": "f6c0b2c9-25b2-43a7-bb0a-9521bd5492f8",
   "metadata": {},
   "outputs": [
    {
     "data": {
      "text/plain": [
       "tensor([ 0.6730, -0.6151,  0.9861])"
      ]
     },
     "execution_count": 13,
     "metadata": {},
     "output_type": "execute_result"
    }
   ],
   "source": [
    "# setting the random seed for PyTorch\n",
    "# torch.manual_seed(42)\n",
    "# 1d tensor of random numbers\n",
    "random_1d_tensor = torch.randn(3)\n",
    "random_1d_tensor"
   ]
  },
  {
   "cell_type": "code",
   "execution_count": 14,
   "id": "46cc7965-ee95-497f-bf61-df42557333ed",
   "metadata": {},
   "outputs": [
    {
     "data": {
      "text/plain": [
       "tensor([[ 0.3367,  0.1288,  0.2345],\n",
       "        [ 0.2303, -1.1229, -0.1863],\n",
       "        [ 2.2082, -0.6380,  0.4617]])"
      ]
     },
     "execution_count": 14,
     "metadata": {},
     "output_type": "execute_result"
    }
   ],
   "source": [
    "# setting the random seed for PyTorch\n",
    "torch.manual_seed(42)\n",
    "# 2d tensor of random numbers\n",
    "random_2d_tensor = torch.randn(3,3)\n",
    "random_2d_tensor"
   ]
  },
  {
   "cell_type": "code",
   "execution_count": 15,
   "id": "b9d5cf4d-3851-406f-a0da-1ada0f548061",
   "metadata": {},
   "outputs": [
    {
     "data": {
      "text/plain": [
       "tensor([[[ 1.9269,  1.4873, -0.4974],\n",
       "         [ 0.4396, -0.7581,  1.0783],\n",
       "         [ 0.8008,  1.6806,  0.3559]],\n",
       "\n",
       "        [[-0.6866,  0.6105,  1.3347],\n",
       "         [-0.2316,  0.0418, -0.2516],\n",
       "         [ 0.8599, -0.3097, -0.3957]]])"
      ]
     },
     "execution_count": 15,
     "metadata": {},
     "output_type": "execute_result"
    }
   ],
   "source": [
    "# setting the random seed for PyTorch\n",
    "torch.manual_seed(42)\n",
    "# 3d tensor of random numbers\n",
    "random_3d_tensor = torch.randn(2,3,3)\n",
    "random_3d_tensor"
   ]
  },
  {
   "cell_type": "code",
   "execution_count": 16,
   "id": "6feb4e55-9d38-4123-9b42-51f1a4d39a9d",
   "metadata": {},
   "outputs": [
    {
     "name": "stdout",
     "output_type": "stream",
     "text": [
      "tensor(2) tensor(1)\n"
     ]
    }
   ],
   "source": [
    "## 2. Mathematical Operations in PyTorch\n",
    "# initializing two tensors\n",
    "a = torch.tensor(2)\n",
    "b = torch.tensor(1)\n",
    "print(a,b)"
   ]
  },
  {
   "cell_type": "code",
   "execution_count": 17,
   "id": "d94a7f41-d2bf-4ac7-9e03-f12a5bcd0a48",
   "metadata": {},
   "outputs": [
    {
     "name": "stdout",
     "output_type": "stream",
     "text": [
      "tensor(3)\n",
      "tensor(-1)\n",
      "tensor(2)\n",
      "tensor(2.)\n"
     ]
    }
   ],
   "source": [
    "# addition\n",
    "print(a+b)\n",
    "\n",
    "# subtraction\n",
    "print(b-a)\n",
    "\n",
    "# multiplication\n",
    "print(a*b)\n",
    "\n",
    "# division\n",
    "print(a/b)"
   ]
  },
  {
   "cell_type": "code",
   "execution_count": 18,
   "id": "77367a14-eda2-406f-a9ee-7b4617008ee5",
   "metadata": {},
   "outputs": [],
   "source": [
    "## 3. Matrix Operations in PyTorch\n",
    "# setting the random seed for pytorch and initializing two 2d tensors\n",
    "torch.manual_seed(42)\n",
    "a = torch.randn(3,3)\n",
    "b = torch.randn(3,3)"
   ]
  },
  {
   "cell_type": "code",
   "execution_count": 19,
   "id": "49c2e844-bd1c-4bae-9bd5-2e687d6f11f2",
   "metadata": {},
   "outputs": [
    {
     "name": "stdout",
     "output_type": "stream",
     "text": [
      "tensor([[ 0.3367,  0.1288,  0.2345],\n",
      "        [ 0.2303, -1.1229, -0.1863],\n",
      "        [ 2.2082, -0.6380,  0.4617]])\n"
     ]
    }
   ],
   "source": [
    "# printing first matrix\n",
    "print(a)"
   ]
  },
  {
   "cell_type": "code",
   "execution_count": null,
   "id": "1dcca1d9-bbac-4df7-bd3b-93c44d252f1a",
   "metadata": {},
   "outputs": [],
   "source": []
  },
  {
   "cell_type": "code",
   "execution_count": 20,
   "id": "4c7ff295-b856-4abb-b2b3-80db65c832bb",
   "metadata": {},
   "outputs": [
    {
     "name": "stdout",
     "output_type": "stream",
     "text": [
      "tensor([[ 0.2674,  0.5349,  0.8094],\n",
      "        [ 1.1103, -1.6898, -0.9890],\n",
      "        [ 0.9580,  1.3221,  0.8172]])\n"
     ]
    }
   ],
   "source": [
    "# printing second matrix\n",
    "print(b)"
   ]
  },
  {
   "cell_type": "code",
   "execution_count": 21,
   "id": "8c194e9d-b037-4abf-88a0-2092012c5f59",
   "metadata": {},
   "outputs": [],
   "source": [
    "### 3.1 Matrix addition"
   ]
  },
  {
   "cell_type": "code",
   "execution_count": 22,
   "id": "5fbd53b7-6649-4070-b7ff-6ed6e1ff09b0",
   "metadata": {},
   "outputs": [
    {
     "name": "stdout",
     "output_type": "stream",
     "text": [
      "tensor([[ 0.6040,  0.6637,  1.0438],\n",
      "        [ 1.3406, -2.8127, -1.1753],\n",
      "        [ 3.1662,  0.6841,  1.2788]])\n"
     ]
    }
   ],
   "source": [
    "# adding two matrices using torch.add\n",
    "addition = torch.add(a,b)\n",
    "print(addition)"
   ]
  },
  {
   "cell_type": "code",
   "execution_count": 23,
   "id": "5a4a8312-2010-43b7-bf63-c17321ffd960",
   "metadata": {},
   "outputs": [],
   "source": [
    "### 3.2 Matrix subtraction"
   ]
  },
  {
   "cell_type": "code",
   "execution_count": 24,
   "id": "31cc9aec-37ec-42b4-bf15-8dc40083341d",
   "metadata": {},
   "outputs": [
    {
     "name": "stdout",
     "output_type": "stream",
     "text": [
      "tensor([[ 0.0693, -0.4061, -0.5749],\n",
      "        [-0.8800,  0.5669,  0.8026],\n",
      "        [ 1.2502, -1.9601, -0.3555]])\n"
     ]
    }
   ],
   "source": [
    "# subtracting one matrix from the other using torch.sub\n",
    "subtraction = torch.sub(a,b)\n",
    "print(subtraction)"
   ]
  },
  {
   "cell_type": "code",
   "execution_count": 25,
   "id": "b25200e5-5de0-45b8-ad77-8dd3c7f43492",
   "metadata": {},
   "outputs": [],
   "source": [
    "### 3.3 Matrix Multiplication"
   ]
  },
  {
   "cell_type": "code",
   "execution_count": 26,
   "id": "100f344b-fdcd-4e3e-9986-dfece9e4f7eb",
   "metadata": {},
   "outputs": [
    {
     "name": "stdout",
     "output_type": "stream",
     "text": [
      "tensor([[ 0.4576,  0.2724,  0.3367],\n",
      "        [-1.3636,  1.7743,  1.1446],\n",
      "        [ 0.3243,  2.8696,  2.7954]])\n"
     ]
    }
   ],
   "source": [
    "# matrix multiplication using torch.mm\n",
    "# this is similar to dot product\n",
    "\n",
    "dot_product = torch.mm(a,b)\n",
    "print(dot_product)"
   ]
  },
  {
   "cell_type": "code",
   "execution_count": 27,
   "id": "c8191a31-9177-4796-ad0e-9f8d2a97ba50",
   "metadata": {},
   "outputs": [
    {
     "name": "stdout",
     "output_type": "stream",
     "text": [
      "tensor([[ 0.4576,  0.2724,  0.3367],\n",
      "        [-1.3636,  1.7743,  1.1446],\n",
      "        [ 0.3243,  2.8696,  2.7954]])\n"
     ]
    }
   ],
   "source": [
    "# matrix multiplication using torch.matmul\n",
    "\n",
    "matrix_multiplication = torch.matmul(a,b)\n",
    "print(matrix_multiplication)"
   ]
  },
  {
   "cell_type": "code",
   "execution_count": 28,
   "id": "fb7c4868-7195-4bbf-904c-988e0d63b428",
   "metadata": {},
   "outputs": [
    {
     "name": "stdout",
     "output_type": "stream",
     "text": [
      "tensor([[ 0.0900,  0.0689,  0.1898],\n",
      "        [ 0.2557,  1.8974,  0.1843],\n",
      "        [ 2.1154, -0.8435,  0.3773]])\n"
     ]
    }
   ],
   "source": [
    "# matrix multiplication using torch.mul\n",
    "# this performs elementwise multiplication\n",
    "\n",
    "elementwise_multiplication = torch.mul(a,b)\n",
    "print(elementwise_multiplication)"
   ]
  },
  {
   "cell_type": "code",
   "execution_count": 29,
   "id": "fd7d0abb-206c-4f96-82d0-e5b5d14d232a",
   "metadata": {},
   "outputs": [],
   "source": [
    "### 3.4 Matrix division"
   ]
  },
  {
   "cell_type": "code",
   "execution_count": 30,
   "id": "81382f03-8ad9-4d7a-bd1a-9b1a379acb8a",
   "metadata": {},
   "outputs": [
    {
     "name": "stdout",
     "output_type": "stream",
     "text": [
      "tensor([[ 1.2594,  0.2408,  0.2897],\n",
      "        [ 0.2075,  0.6645,  0.1884],\n",
      "        [ 2.3051, -0.4826,  0.5649]])\n"
     ]
    }
   ],
   "source": [
    "# dividing one matrix by the other using torch.div\n",
    "division = torch.div(a,b)\n",
    "print(division)"
   ]
  },
  {
   "cell_type": "code",
   "execution_count": 31,
   "id": "ebf499ac-ce40-4891-841d-09d5fe12083b",
   "metadata": {},
   "outputs": [
    {
     "name": "stdout",
     "output_type": "stream",
     "text": [
      "tensor([[ 0.3367,  0.1288,  0.2345],\n",
      "        [ 0.2303, -1.1229, -0.1863],\n",
      "        [ 2.2082, -0.6380,  0.4617]]) \n",
      "\n"
     ]
    },
    {
     "data": {
      "text/plain": [
       "tensor([[ 0.3367,  0.2303,  2.2082],\n",
       "        [ 0.1288, -1.1229, -0.6380],\n",
       "        [ 0.2345, -0.1863,  0.4617]])"
      ]
     },
     "execution_count": 31,
     "metadata": {},
     "output_type": "execute_result"
    }
   ],
   "source": [
    "### 3.5 Transpose of a matrix\n",
    "# calculating the transpose of a 2d tensor in PyTorch\n",
    "# original matrix\n",
    "print(a, '\\n')\n",
    "\n",
    "# matrix transpose\n",
    "torch.t(a)"
   ]
  },
  {
   "cell_type": "code",
   "execution_count": 32,
   "id": "b196bc67-f553-4f1a-9186-97f0e81217b8",
   "metadata": {},
   "outputs": [
    {
     "name": "stdout",
     "output_type": "stream",
     "text": [
      "tensor([[ 0.3367,  0.1288,  0.2345,  0.2303],\n",
      "        [-1.1229, -0.1863,  2.2082, -0.6380]])\n"
     ]
    },
    {
     "data": {
      "text/plain": [
       "torch.Size([2, 4])"
      ]
     },
     "execution_count": 32,
     "metadata": {},
     "output_type": "execute_result"
    }
   ],
   "source": [
    "### 3.6 Reshaping 2d tensors\n",
    "# setting the random seed for pytorch\n",
    "torch.manual_seed(42)\n",
    "\n",
    "# initializing tensor\n",
    "a = torch.randn(2,4)\n",
    "\n",
    "print(a)\n",
    "a.shape"
   ]
  },
  {
   "cell_type": "code",
   "execution_count": 33,
   "id": "36cab317-b09a-457e-8355-1a9a599340ce",
   "metadata": {},
   "outputs": [
    {
     "name": "stdout",
     "output_type": "stream",
     "text": [
      "tensor([[ 0.3367,  0.1288,  0.2345,  0.2303, -1.1229, -0.1863,  2.2082, -0.6380]])\n"
     ]
    },
    {
     "data": {
      "text/plain": [
       "torch.Size([1, 8])"
      ]
     },
     "execution_count": 33,
     "metadata": {},
     "output_type": "execute_result"
    }
   ],
   "source": [
    "# reshaping tensor using reshape function\n",
    "b = a.reshape(1,8)\n",
    "\n",
    "print(b)\n",
    "b.shape"
   ]
  },
  {
   "cell_type": "code",
   "execution_count": 34,
   "id": "f36bd458-80ee-4f80-b913-894a8a3a6d8d",
   "metadata": {},
   "outputs": [
    {
     "name": "stdout",
     "output_type": "stream",
     "text": [
      "tensor(1.1913)\n"
     ]
    }
   ],
   "source": [
    "# sum of values in tensor\n",
    "print(a.sum())"
   ]
  },
  {
   "cell_type": "code",
   "execution_count": 35,
   "id": "00881d3e-37e1-4229-ac8d-428169f4933e",
   "metadata": {},
   "outputs": [
    {
     "name": "stdout",
     "output_type": "stream",
     "text": [
      "tensor(0.1489)\n"
     ]
    }
   ],
   "source": [
    "# average of values in tensor\n",
    "print(torch.mean(a))"
   ]
  },
  {
   "cell_type": "code",
   "execution_count": 36,
   "id": "ffa3d7db-4f63-476d-9c8a-1d8673d30783",
   "metadata": {},
   "outputs": [],
   "source": [
    "## 4. Converting NumPy arrays to PyTorch tensors "
   ]
  },
  {
   "cell_type": "code",
   "execution_count": 37,
   "id": "3c07a8f6-73ba-4d29-8631-9ab15752a568",
   "metadata": {},
   "outputs": [
    {
     "name": "stdout",
     "output_type": "stream",
     "text": [
      "[[1 2]\n",
      " [3 4]]\n"
     ]
    }
   ],
   "source": [
    "# importing numpy library\n",
    "import numpy as np\n",
    "\n",
    "# initializing a numpy array\n",
    "a = np.array([[1,2],[3,4]])\n",
    "print(a)"
   ]
  },
  {
   "cell_type": "code",
   "execution_count": 38,
   "id": "11b3d6c1-b80d-4089-868a-68e9534af121",
   "metadata": {},
   "outputs": [
    {
     "data": {
      "text/plain": [
       "numpy.ndarray"
      ]
     },
     "execution_count": 38,
     "metadata": {},
     "output_type": "execute_result"
    }
   ],
   "source": [
    "type(a)"
   ]
  },
  {
   "cell_type": "code",
   "execution_count": 39,
   "id": "8f5dc716-b90b-4bdd-84c7-96999fb2d7ff",
   "metadata": {},
   "outputs": [
    {
     "name": "stdout",
     "output_type": "stream",
     "text": [
      "tensor([[1, 2],\n",
      "        [3, 4]])\n"
     ]
    }
   ],
   "source": [
    "# converting the numpy array to tensor\n",
    "array_to_tensor = torch.from_numpy(a)\n",
    "print(array_to_tensor)"
   ]
  },
  {
   "cell_type": "code",
   "execution_count": 40,
   "id": "47f8a411-0af2-4111-aa27-6020b8829258",
   "metadata": {},
   "outputs": [
    {
     "data": {
      "text/plain": [
       "torch.Tensor"
      ]
     },
     "execution_count": 40,
     "metadata": {},
     "output_type": "execute_result"
    }
   ],
   "source": [
    "type(array_to_tensor)"
   ]
  },
  {
   "cell_type": "code",
   "execution_count": 41,
   "id": "6a9d1f82-19c9-425a-a2f4-69fdea268a61",
   "metadata": {},
   "outputs": [],
   "source": [
    "## 5. Converting PyTorch tensors to NumPy arrays "
   ]
  },
  {
   "cell_type": "code",
   "execution_count": 42,
   "id": "72e176f6-9c9c-4054-9879-8c61e5987081",
   "metadata": {},
   "outputs": [
    {
     "name": "stdout",
     "output_type": "stream",
     "text": [
      "tensor([[1, 2],\n",
      "        [3, 4]])\n"
     ]
    },
    {
     "data": {
      "text/plain": [
       "torch.Tensor"
      ]
     },
     "execution_count": 42,
     "metadata": {},
     "output_type": "execute_result"
    }
   ],
   "source": [
    "# initializing a pytorch tensor\n",
    "a = torch.tensor([[1,2],[3,4]])\n",
    "print(a)\n",
    "\n",
    "type(a)"
   ]
  },
  {
   "cell_type": "code",
   "execution_count": 43,
   "id": "b6e0c920-94d1-4293-95d6-709ea565131f",
   "metadata": {},
   "outputs": [
    {
     "name": "stdout",
     "output_type": "stream",
     "text": [
      "[[1 2]\n",
      " [3 4]]\n"
     ]
    },
    {
     "data": {
      "text/plain": [
       "numpy.ndarray"
      ]
     },
     "execution_count": 43,
     "metadata": {},
     "output_type": "execute_result"
    }
   ],
   "source": [
    "# converting pytorch tensor to numpy array\n",
    "tensor_to_array = a.numpy()\n",
    "print(tensor_to_array)\n",
    "\n",
    "type(tensor_to_array)"
   ]
  },
  {
   "cell_type": "code",
   "execution_count": 44,
   "id": "70e9c451-6e33-421f-aeee-358c86661c9a",
   "metadata": {},
   "outputs": [],
   "source": [
    "## 6. Using tensors on GPU"
   ]
  },
  {
   "cell_type": "code",
   "execution_count": 45,
   "id": "dad9b9e1-e5b4-4896-a4e7-b34cf7ef7332",
   "metadata": {},
   "outputs": [
    {
     "name": "stdout",
     "output_type": "stream",
     "text": [
      "GPU is not available\n"
     ]
    }
   ],
   "source": [
    "# checking if GPU is available\n",
    "if torch.cuda.is_available():\n",
    "  print('GPU is available')\n",
    "else:\n",
    "  print('GPU is not available')"
   ]
  },
  {
   "cell_type": "code",
   "execution_count": 51,
   "id": "493e1c5d-7fa1-4c07-9956-2b8c89214bcc",
   "metadata": {},
   "outputs": [
    {
     "name": "stdout",
     "output_type": "stream",
     "text": [
      "Requirement already satisfied: torch in /Users/paramanandbhat/.pyenv/versions/3.9.12/lib/python3.9/site-packages (2.2.0)\n",
      "Requirement already satisfied: torchvision in /Users/paramanandbhat/.pyenv/versions/3.9.12/lib/python3.9/site-packages (0.17.0)\n",
      "Requirement already satisfied: filelock in /Users/paramanandbhat/.pyenv/versions/3.9.12/lib/python3.9/site-packages (from torch) (3.13.1)\n",
      "Requirement already satisfied: typing-extensions>=4.8.0 in /Users/paramanandbhat/.pyenv/versions/3.9.12/lib/python3.9/site-packages (from torch) (4.9.0)\n",
      "Requirement already satisfied: sympy in /Users/paramanandbhat/.pyenv/versions/3.9.12/lib/python3.9/site-packages (from torch) (1.12)\n",
      "Requirement already satisfied: networkx in /Users/paramanandbhat/.pyenv/versions/3.9.12/lib/python3.9/site-packages (from torch) (3.2.1)\n",
      "Requirement already satisfied: jinja2 in /Users/paramanandbhat/.pyenv/versions/3.9.12/lib/python3.9/site-packages (from torch) (3.1.3)\n",
      "Requirement already satisfied: fsspec in /Users/paramanandbhat/.pyenv/versions/3.9.12/lib/python3.9/site-packages (from torch) (2024.2.0)\n",
      "Requirement already satisfied: numpy in /Users/paramanandbhat/.pyenv/versions/3.9.12/lib/python3.9/site-packages (from torchvision) (1.26.4)\n",
      "Requirement already satisfied: requests in /Users/paramanandbhat/.pyenv/versions/3.9.12/lib/python3.9/site-packages (from torchvision) (2.31.0)\n",
      "Requirement already satisfied: pillow!=8.3.*,>=5.3.0 in /Users/paramanandbhat/.pyenv/versions/3.9.12/lib/python3.9/site-packages (from torchvision) (10.2.0)\n",
      "Requirement already satisfied: MarkupSafe>=2.0 in /Users/paramanandbhat/.pyenv/versions/3.9.12/lib/python3.9/site-packages (from jinja2->torch) (2.1.5)\n",
      "Requirement already satisfied: charset-normalizer<4,>=2 in /Users/paramanandbhat/.pyenv/versions/3.9.12/lib/python3.9/site-packages (from requests->torchvision) (3.3.2)\n",
      "Requirement already satisfied: idna<4,>=2.5 in /Users/paramanandbhat/.pyenv/versions/3.9.12/lib/python3.9/site-packages (from requests->torchvision) (3.6)\n",
      "Requirement already satisfied: urllib3<3,>=1.21.1 in /Users/paramanandbhat/.pyenv/versions/3.9.12/lib/python3.9/site-packages (from requests->torchvision) (2.2.0)\n",
      "Requirement already satisfied: certifi>=2017.4.17 in /Users/paramanandbhat/.pyenv/versions/3.9.12/lib/python3.9/site-packages (from requests->torchvision) (2024.2.2)\n",
      "Requirement already satisfied: mpmath>=0.19 in /Users/paramanandbhat/.pyenv/versions/3.9.12/lib/python3.9/site-packages (from sympy->torch) (1.3.0)\n",
      "tensor([[2, 4],\n",
      "        [6, 8]])\n"
     ]
    }
   ],
   "source": [
    "!pip install torch torchvision \n",
    "# sending the tensors to GPU\n",
    "import torch\n",
    "\n",
    "# Creating tensors directly on the CPU\n",
    "a = torch.tensor([[1, 2], [3, 4]])\n",
    "b = torch.tensor([[1, 2], [3, 4]])\n",
    "\n",
    "# Performing the operation on the CPU\n",
    "c = a + b\n",
    "print(c)\n"
   ]
  },
  {
   "cell_type": "code",
   "execution_count": null,
   "id": "8226e318-3302-420b-a84e-d97d0b43e71c",
   "metadata": {},
   "outputs": [],
   "source": []
  }
 ],
 "metadata": {
  "kernelspec": {
   "display_name": "Python 3 (ipykernel)",
   "language": "python",
   "name": "python3"
  },
  "language_info": {
   "codemirror_mode": {
    "name": "ipython",
    "version": 3
   },
   "file_extension": ".py",
   "mimetype": "text/x-python",
   "name": "python",
   "nbconvert_exporter": "python",
   "pygments_lexer": "ipython3",
   "version": "3.9.12"
  }
 },
 "nbformat": 4,
 "nbformat_minor": 5
}
